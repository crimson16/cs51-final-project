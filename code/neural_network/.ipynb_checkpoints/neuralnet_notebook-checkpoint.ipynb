{
 "cells": [
  {
   "cell_type": "code",
   "execution_count": 1,
   "metadata": {
    "collapsed": false
   },
   "outputs": [],
   "source": [
    "# one way of running Neural network in ipython notebook\n",
    "\n",
    "from Neural_Network import NeuralNetwork"
   ]
  },
  {
   "cell_type": "code",
   "execution_count": 2,
   "metadata": {
    "collapsed": false
   },
   "outputs": [],
   "source": [
    "import mnist_loader\n",
    "training_data, validation_data, test_data = mnist_loader.load_data_wrapper()"
   ]
  },
  {
   "cell_type": "code",
   "execution_count": 3,
   "metadata": {
    "collapsed": false
   },
   "outputs": [
    {
     "name": "stdout",
     "output_type": "stream",
     "text": [
      "Epoch 0: 9018 / 10000\n",
      "Epoch 1: 9238 / 10000\n",
      "Epoch 2: 9314 / 10000\n",
      "Epoch 3: 9361 / 10000\n",
      "Epoch 4: 9351 / 10000\n",
      "Epoch 5: 9413 / 10000\n",
      "Epoch 6: 9426 / 10000\n",
      "Epoch 7: 9432 / 10000\n",
      "Epoch 8: 9447 / 10000\n",
      "Epoch 9: 9424 / 10000\n",
      "Epoch 10: 9436 / 10000\n",
      "Epoch 11: 9467 / 10000\n",
      "Epoch 12: 9418 / 10000\n",
      "Epoch 13: 9476 / 10000\n",
      "Epoch 14: 9452 / 10000\n",
      "Epoch 15: 9458 / 10000\n",
      "Epoch 16: 9471 / 10000\n",
      "Epoch 17: 9479 / 10000\n",
      "Epoch 18: 9494 / 10000\n",
      "Epoch 19: 9469 / 10000\n",
      "Epoch 20: 9483 / 10000\n",
      "Epoch 21: 9488 / 10000\n",
      "Epoch 22: 9483 / 10000\n",
      "Epoch 23: 9479 / 10000\n",
      "Epoch 24: 9478 / 10000\n",
      "Epoch 25: 9477 / 10000\n",
      "Epoch 26: 9475 / 10000\n",
      "Epoch 27: 9483 / 10000\n",
      "Epoch 28: 9496 / 10000\n",
      "Epoch 29: 9507 / 10000\n"
     ]
    }
   ],
   "source": [
    "net = NeuralNetwork([784, 30, 10])\n",
    "net.SGD(training_data, 30, 10, 3.0, test_data=test_data)"
   ]
  },
  {
   "cell_type": "code",
   "execution_count": 1,
   "metadata": {
    "collapsed": false
   },
   "outputs": [],
   "source": [
    "# can also run it this way\n",
    "import main_neural_network\n",
    "\n",
    "main_neural_network.main()"
   ]
  },
  {
   "cell_type": "code",
   "execution_count": null,
   "metadata": {
    "collapsed": true
   },
   "outputs": [],
   "source": []
  },
  {
   "cell_type": "code",
   "execution_count": null,
   "metadata": {
    "collapsed": true
   },
   "outputs": [],
   "source": []
  }
 ],
 "metadata": {
  "kernelspec": {
   "display_name": "Python 2",
   "language": "python",
   "name": "python2"
  },
  "language_info": {
   "codemirror_mode": {
    "name": "ipython",
    "version": 2
   },
   "file_extension": ".py",
   "mimetype": "text/x-python",
   "name": "python",
   "nbconvert_exporter": "python",
   "pygments_lexer": "ipython2",
   "version": "2.7.6"
  }
 },
 "nbformat": 4,
 "nbformat_minor": 0
}
