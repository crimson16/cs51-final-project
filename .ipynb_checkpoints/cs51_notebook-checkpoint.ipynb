{
 "cells": [
  {
   "cell_type": "markdown",
   "metadata": {},
   "source": [
    "# CS 51 Final Project Interface\n",
    "\n",
    "By: Olivia Angiuli, Martin Reindl, Ty Rocca, Wilder Wohns\n",
    "\n",
    "**Purpose:** This top level iPython notebook is designed to be a place to see how our code works. It is also a good way for us to show off our results"
   ]
  },
  {
   "cell_type": "code",
   "execution_count": 1,
   "metadata": {
    "collapsed": false
   },
   "outputs": [],
   "source": [
    "#!/usr/bin/env python\n",
    "\n",
    "# doesn't work\n",
    "# import main_cluster"
   ]
  },
  {
   "cell_type": "code",
   "execution_count": 2,
   "metadata": {
    "collapsed": false
   },
   "outputs": [],
   "source": [
    "import numpy as np\n",
    "import os, struct,random #,\n",
    "# import sys\n",
    "from numpy import append, array, int8, uint8, zeros\n",
    "import Initialize\n",
    "import Accuracy\n",
    "import Distance\n",
    "import Load\n",
    "import Kmeans\n",
    "import ClassifyClusters\n",
    "\n",
    "######################################\n",
    "# Load in training images and labels #\n",
    "######################################\n",
    "\n",
    "# load training and testing images and labels as 60,000 x 28 x 28 array\n",
    "train_images,train_labels = Load.load_mnist(\"training\",path=os.getcwd(), prop = 5)\n",
    "test_images,test_labels = Load.load_mnist(\"testing\",path=os.getcwd())\n",
    "\n",
    "# flatten training images into 60,000 x 784 array\n",
    "train_images_flat = np.array([np.ravel(img) for img in train_images])\n",
    "test_images_flat = np.array([np.ravel(img) for img in test_images])\n",
    "\n",
    "# final = []\n",
    "# cluster_set = []\n",
    "def main (k):\n",
    "    #########################\n",
    "    # Set parameter values  #\n",
    "    #########################\n",
    "#     k = int(sys.argv[1]) # number of clusters (system argument)\n",
    "\n",
    "    if k < 10:\n",
    "        raise ValueError(\"Minimum cluster number is 10\")\n",
    "\n",
    "    #################################################\n",
    "    # Lloyd's algorithm -- find optimal clustering  #\n",
    "    #################################################\n",
    "\n",
    "    # Run clustering algorithm\n",
    "    final_responsibilities, final_clusters = Kmeans.kmeans(k, train_images_flat,\n",
    "      Initialize.random_centers(k), distfn = Distance.sumsq, method = \"means\")\n",
    "    print final_responsibilities.sum(axis=0)\n",
    "\n",
    "    # Save representative images to file.\n",
    "    Load.save_images(k, train_images, final_responsibilities, final_clusters)\n",
    "\n",
    "    # Calculate final accuracy\n",
    "    return Accuracy.final_accuracy(final_responsibilities, train_labels, train_images_flat, final_clusters)"
   ]
  },
  {
   "cell_type": "code",
   "execution_count": 72,
   "metadata": {
    "collapsed": false
   },
   "outputs": [],
   "source": [
    "final, cluster_set = main(10)"
   ]
  },
  {
   "cell_type": "code",
   "execution_count": 31,
   "metadata": {
    "collapsed": false
   },
   "outputs": [],
   "source": [
    "newt = []\n",
    "c_inds = []\n",
    "for cluster in cluster_set:\n",
    "    newt.append(cluster[0])\n",
    "    c_inds.append(cluster[1])\n",
    "    "
   ]
  },
  {
   "cell_type": "code",
   "execution_count": null,
   "metadata": {
    "collapsed": false
   },
   "outputs": [],
   "source": []
  },
  {
   "cell_type": "code",
   "execution_count": 85,
   "metadata": {
    "collapsed": false
   },
   "outputs": [],
   "source": [
    "distfn = Distance.sumsq\n",
    "# np.apply_along_axis(Distance.leastsquares, 1, test_images_flat[0],\n",
    "#     cluster_set[0][0], distfn)\n",
    "\n",
    "# This gets indicies of best clusters\n",
    "t = np.apply_along_axis(Distance.leastsquares, 1, test_images_flat[1:1000],\n",
    "    newt, distfn)\n",
    "\n",
    "# _find_Dx\n",
    "correct_num = test_labels[1:1000]\n",
    "# print t\n"
   ]
  },
  {
   "cell_type": "code",
   "execution_count": 86,
   "metadata": {
    "collapsed": false
   },
   "outputs": [],
   "source": [
    "# result is the index of the best cluster\n",
    "comp = np.array([c_inds[i] for i in t])\n",
    "diffs = comp - np.array(correct_num)\n"
   ]
  },
  {
   "cell_type": "code",
   "execution_count": 87,
   "metadata": {
    "collapsed": false
   },
   "outputs": [
    {
     "name": "stdout",
     "output_type": "stream",
     "text": [
      "0.542542542543\n"
     ]
    }
   ],
   "source": [
    "count = 0\n",
    "for n in diffs:\n",
    "    if int(n) == 0:\n",
    "        count+=1\n",
    "#     print count\n",
    "print float(count) / len(diffs)"
   ]
  },
  {
   "cell_type": "code",
   "execution_count": 92,
   "metadata": {
    "collapsed": false
   },
   "outputs": [],
   "source": [
    "# import Distance\n",
    "\n",
    "# def classify(cluster_set, test_set, test_labels, distfn = Distance.sumsq, n = None):\n",
    "    \n",
    "#     clusters = []\n",
    "#     c_index = []\n",
    "#     for cluster in cluster_set:\n",
    "#         clusters.append(cluster[0])\n",
    "#         c_index.append(cluster[1])\n",
    "\n",
    "#     if n == None:\n",
    "#         n = len(test_labels) - 1\n",
    "#     test_clusters_asgn = np.apply_along_axis(Distance.leastsquares, 1, test_images_flat[0:n],\n",
    "#         newt, distfn)\n",
    "#     test_clusters = np.array([c_index[i] for i in test_clusters_asgn])\n",
    "\n",
    "#     # correct numbers for dataset\n",
    "#     correct_numbers = test_labels[0:n]\n",
    "#     # Diffs on assignments\n",
    "#     diffs = test_clusters - np.array(correct_numbers)\n",
    "#     # Count for incorrect assignments \n",
    "#     n_wrong = np.count_nonzero(diffs)\n",
    "\n",
    "#     prediction_level = ((n - n_wrong) / float(n))*100\n",
    "#     print \"Our Accuracy in prediction test data was {0} %\".format(prediction_level)"
   ]
  },
  {
   "cell_type": "code",
   "execution_count": 98,
   "metadata": {
    "collapsed": false
   },
   "outputs": [
    {
     "ename": "TypeError",
     "evalue": "classify() takes exactly 2 arguments (5 given)",
     "output_type": "error",
     "traceback": [
      "\u001b[0;31m---------------------------------------------------------------------------\u001b[0m",
      "\u001b[0;31mTypeError\u001b[0m                                 Traceback (most recent call last)",
      "\u001b[0;32m<ipython-input-98-95c7eb20db9f>\u001b[0m in \u001b[0;36m<module>\u001b[0;34m()\u001b[0m\n\u001b[1;32m      2\u001b[0m \u001b[0;34m\u001b[0m\u001b[0m\n\u001b[1;32m      3\u001b[0m ClassifyClusters.classify(cluster_set, test_images_flat, test_labels, \n\u001b[0;32m----> 4\u001b[0;31m                           distfn = Distance.sumsq, n= 40)\n\u001b[0m",
      "\u001b[0;31mTypeError\u001b[0m: classify() takes exactly 2 arguments (5 given)"
     ]
    }
   ],
   "source": [
    "import ClassifyClusters\n",
    "\n",
    "ClassifyClusters.classify(cluster_set, test_images_flat, test_labels, distfn = Distance.sumsq, n= 40)"
   ]
  },
  {
   "cell_type": "code",
   "execution_count": null,
   "metadata": {
    "collapsed": true
   },
   "outputs": [],
   "source": []
  }
 ],
 "metadata": {
  "kernelspec": {
   "display_name": "Python 2",
   "language": "python",
   "name": "python2"
  },
  "language_info": {
   "codemirror_mode": {
    "name": "ipython",
    "version": 2
   },
   "file_extension": ".py",
   "mimetype": "text/x-python",
   "name": "python",
   "nbconvert_exporter": "python",
   "pygments_lexer": "ipython2",
   "version": "2.7.6"
  }
 },
 "nbformat": 4,
 "nbformat_minor": 0
}
