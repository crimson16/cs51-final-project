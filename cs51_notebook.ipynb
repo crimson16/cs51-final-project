{
 "cells": [
  {
   "cell_type": "markdown",
   "metadata": {},
   "source": [
    "# CS 51 Final Project Interface\n",
    "\n",
    "By: Olivia Angiuli, Martin Reindl, Ty Rocca, Wilder Wohns\n",
    "\n",
    "**Purpose:** This top level iPython notebook is designed to be a place to see how our code works. It is also a good way for us to show off our results"
   ]
  },
  {
   "cell_type": "code",
   "execution_count": 1,
   "metadata": {
    "collapsed": false
   },
   "outputs": [],
   "source": [
    "#!/usr/bin/env python"
   ]
  },
  {
   "cell_type": "code",
   "execution_count": 2,
   "metadata": {
    "collapsed": false
   },
   "outputs": [],
   "source": [
    "import numpy as np\n",
    "import os, struct,random #,\n",
    "# import sys\n",
    "from numpy import append, array, int8, uint8, zeros\n",
    "import Initialize\n",
    "import Accuracy\n",
    "import Distance\n",
    "import Load\n",
    "import Kmeans\n",
    "import ClassifyClusters\n",
    "import base64\n",
    "import json\n",
    "import timeit\n",
    "\n",
    "######################################\n",
    "# Load in training images and labels #\n",
    "######################################\n",
    "\n",
    "# load training and testing images and labels as 60,000 x 28 x 28 array\n",
    "train_images,train_labels = Load.load_mnist(\"training\",path=os.getcwd(), prop = 5)\n",
    "test_images,test_labels = Load.load_mnist(\"testing\",path=os.getcwd())\n",
    "\n",
    "# flatten training images into 60,000 x 784 array\n",
    "train_images_flat = np.array([np.ravel(img) for img in train_images])\n",
    "test_images_flat = np.array([np.ravel(img) for img in test_images])\n",
    "\n",
    "def main (k, m=\"means\", init_type=\"random\"):\n",
    "    \n",
    "    # Starting clustering timer\n",
    "    start_cluster = timeit.default_timer()\n",
    "    \n",
    "    # Process arguments\n",
    "    if k < 10:\n",
    "        raise ValueError(\"Minimum cluster number is 10\")\n",
    "    \n",
    "    #Process method of clustering\n",
    "    if m not in [\"means\", \"medoids\", \"medians\"]:\n",
    "        raise ValueError(\"Not a valid method specification; must be 'means',\\\n",
    "          'medoids', or 'medians'\")\n",
    "    \n",
    "    # Method for clustering\n",
    "    initial_clusters = None\n",
    "    if init_type == \"random\":\n",
    "        initial_clusters = Initialize.random_centers(k)\n",
    "    else:\n",
    "        init_type = \"k_plus_plus\"\n",
    "        initial_clusters = kmeans_plusplus(k, train_images_flat,\n",
    "                                           dist_fn=Distance.sumsq)\n",
    "        \n",
    "        \n",
    "        \n",
    "    # Run clustering algorithm\n",
    "    final_responsibilities, final_clusters = Kmeans.kmeans(k, train_images_flat,\n",
    "        initial_clusters, distfn = Distance.sumsq, method=m)\n",
    "    \n",
    "    # Output of results\n",
    "    print final_responsibilities.sum(axis=0)\n",
    "\n",
    "    # Time to cluster\n",
    "    end_cluster = timeit.default_timer()\n",
    "    clustering_time = end_cluster - start_cluster\n",
    "    print \"Time spent clustering : \", clustering_time\n",
    "\n",
    "\n",
    "    # Save representative images to file.\n",
    "    title = m + \"_\" + init_type + \"_cluster\" + str(k)\n",
    "    Load.save_images(k, train_images, final_responsibilities, \n",
    "                     final_clusters, title)\n",
    "\n",
    "    # Calculate final accuracy for clusters\n",
    "    final, cluster_set = Accuracy.final_accuracy(final_responsibilities, \n",
    "        train_labels, train_images_flat, final_clusters)\n",
    "\n",
    "    # Now see how well we can classify the dataset\n",
    "    start_cluster_test = timeit.default_timer()\n",
    "    predictions = ClassifyClusters.classify(cluster_set, test_images_flat, \n",
    "        test_labels, distfn = Distance.sumsq, n=10)\n",
    "    finish_cluster_test = timeit.default_timer()\n",
    "\n",
    "    testing_time = finish_cluster_test - start_cluster_test\n",
    "    print \"Time spent testing : \", testing_time\n",
    "    \n",
    "    ###########\n",
    "    # Outputs #\n",
    "    ###########\n",
    "\n",
    "    # Serializing numpy array - from below source \n",
    "    # http://stackoverflow.com/questions/3488934/simplejson-and-numpy-array\n",
    "    class NumpyEncoder(json.JSONEncoder):\n",
    "        def default(self, obj):\n",
    "            \"\"\"\n",
    "            if input object is a ndarray it will be converted into a \n",
    "            dict holding dtype, shape and the data base64 encoded\n",
    "            \"\"\"\n",
    "            if isinstance(obj, np.ndarray):\n",
    "                data_b64 = base64.b64encode(obj.data)\n",
    "                return dict(__ndarray__=data_b64,\n",
    "                            dtype=str(obj.dtype),\n",
    "                            shape=obj.shape)\n",
    "            # Let the base class default method raise the TypeError\n",
    "            return json.JSONEncoder(self, obj)\n",
    "\n",
    "\n",
    "    def json_numpy_obj_hook(dct):\n",
    "        \"\"\"\n",
    "        Decodes a previously encoded numpy ndarray\n",
    "        with proper shape and dtype\n",
    "        :param dct: (dict) json encoded ndarray\n",
    "        :return: (ndarray) if input was an encoded ndarray\n",
    "        \"\"\"\n",
    "        if isinstance(dct, dict) and '__ndarray__' in dct:\n",
    "            data = base64.b64decode(dct['__ndarray__'])\n",
    "            return np.frombuffer(data, dct['dtype']).reshape(dct['shape'])\n",
    "        return dct\n",
    "\n",
    "\n",
    "    # k, prediction level, cluster_set, \n",
    "    results = {\"k\" : k, \"prediction_accuracy\" : predictions[1], \n",
    "    \"cluster_means\" : cluster_set, \"cluster_stats\" : final,\n",
    "    \"clustering_time\" : clustering_time, \"testing_time\" : testing_time}\n",
    "\n",
    "\n",
    "    with open(title + '_results.json', 'w') as outfile:\n",
    "        json.dump(results, outfile, cls=NumpyEncoder)\n"
   ]
  },
  {
   "cell_type": "code",
   "execution_count": 3,
   "metadata": {
    "collapsed": false
   },
   "outputs": [
    {
     "name": "stdout",
     "output_type": "stream",
     "text": [
      "0 [ 301.  437.   57.  188.  650.   97.  356.  262.  486.  166.]\n",
      "1 [ 314.  407.  143.  221.  507.  157.  320.  301.  453.  177.]\n",
      "2 [ 323.  371.  192.  254.  435.  206.  288.  332.  429.  170.]\n",
      "3 [ 330.  348.  218.  277.  399.  225.  264.  349.  421.  169.]\n",
      "4 [ 341.  337.  234.  279.  377.  230.  248.  356.  423.  175.]\n",
      "5 [ 345.  335.  245.  278.  367.  228.  230.  368.  426.  178.]\n",
      "6 [ 351.  337.  252.  270.  360.  233.  213.  370.  433.  181.]\n",
      "7 [ 362.  336.  267.  260.  358.  232.  198.  368.  439.  180.]\n",
      "8 [ 367.  336.  283.  251.  353.  229.  187.  367.  449.  178.]\n",
      "9 [ 370.  334.  293.  241.  348.  227.  183.  368.  463.  173.]\n",
      "10 [ 373.  334.  299.  235.  346.  222.  187.  369.  468.  167.]\n",
      "11 [ 376.  331.  304.  229.  347.  221.  188.  369.  473.  162.]\n",
      "12 [ 378.  332.  305.  220.  347.  221.  184.  373.  482.  158.]\n",
      "13 [ 379.  331.  306.  209.  349.  221.  185.  375.  490.  155.]\n",
      "14 [ 381.  330.  307.  205.  352.  221.  181.  377.  491.  155.]\n",
      "15 [ 383.  330.  307.  204.  354.  220.  175.  380.  492.  155.]\n",
      "16 [ 385.  330.  308.  200.  353.  220.  176.  381.  495.  152.]\n",
      "17 [ 387.  331.  308.  202.  352.  220.  174.  382.  494.  150.]\n",
      "18 [ 388.  332.  308.  201.  352.  220.  174.  382.  495.  148.]\n",
      "19 [ 389.  332.  308.  202.  351.  221.  172.  383.  495.  147.]\n",
      "20 [ 390.  332.  308.  202.  348.  224.  170.  385.  495.  146.]\n",
      "21 [ 390.  331.  309.  202.  347.  227.  171.  385.  493.  145.]\n",
      "22 [ 390.  331.  309.  202.  346.  228.  173.  385.  493.  143.]\n",
      "23 [ 389.  331.  309.  202.  346.  230.  173.  385.  493.  142.]\n",
      "24 [ 389.  332.  309.  202.  346.  230.  172.  385.  493.  142.]\n",
      "[ 389.  332.  309.  202.  346.  230.  172.  385.  493.  142.]\n",
      "Time spent clustering :  26.9339220524\n",
      "Digit: 0  Purity: 82.2% SD: 1656.6  Count: 314\n",
      "Digit: 1  Purity: 49.7% SD: 1343.5  Count: 678\n",
      "Digit: 2  Purity: 88.6% SD: 1771.5  Count: 202\n",
      "Digit: 3  Purity: 48.6% SD: 1712.0  Count: 385\n",
      "Digit: 4  Purity: 43.6% SD: 1658.9  Count: 493\n",
      "Digit: 5  Purity:  0.0% SD:    0.0  Count: 0\n",
      "Digit: 6  Purity: 83.2% SD: 1608.4  Count: 309\n",
      "Digit: 7  Purity: 47.6% SD: 1497.6  Count: 389\n",
      "Digit: 8  Purity: 66.5% SD: 1637.9  Count: 230\n",
      "Digit: 9  Purity:  0.0% SD:    0.0  Count: 0\n",
      "Our accuracy in predicting test data for k = 10 was 60.0 %\n"
     ]
    }
   ],
   "source": [
    "####################\n",
    "# Call to function #\n",
    "####################\n",
    "main(10)"
   ]
  },
  {
   "cell_type": "code",
   "execution_count": 92,
   "metadata": {
    "collapsed": false
   },
   "outputs": [],
   "source": []
  },
  {
   "cell_type": "code",
   "execution_count": null,
   "metadata": {
    "collapsed": false
   },
   "outputs": [],
   "source": []
  },
  {
   "cell_type": "code",
   "execution_count": null,
   "metadata": {
    "collapsed": false
   },
   "outputs": [],
   "source": []
  },
  {
   "cell_type": "code",
   "execution_count": 15,
   "metadata": {
    "collapsed": false
   },
   "outputs": [],
   "source": []
  },
  {
   "cell_type": "code",
   "execution_count": null,
   "metadata": {
    "collapsed": false
   },
   "outputs": [],
   "source": []
  },
  {
   "cell_type": "code",
   "execution_count": null,
   "metadata": {
    "collapsed": false
   },
   "outputs": [],
   "source": []
  },
  {
   "cell_type": "code",
   "execution_count": null,
   "metadata": {
    "collapsed": true
   },
   "outputs": [],
   "source": []
  }
 ],
 "metadata": {
  "kernelspec": {
   "display_name": "Python 2",
   "language": "python",
   "name": "python2"
  },
  "language_info": {
   "codemirror_mode": {
    "name": "ipython",
    "version": 2
   },
   "file_extension": ".py",
   "mimetype": "text/x-python",
   "name": "python",
   "nbconvert_exporter": "python",
   "pygments_lexer": "ipython2",
   "version": "2.7.6"
  }
 },
 "nbformat": 4,
 "nbformat_minor": 0
}
