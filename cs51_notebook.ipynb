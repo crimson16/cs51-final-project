{
 "cells": [
  {
   "cell_type": "markdown",
   "metadata": {},
   "source": [
    "# CS 51 Final Project Interface\n",
    "\n",
    "By: Olivia Angiuli, Martin Reindl, Ty Rocca, Wilder Wohns\n",
    "\n",
    "**Purpose:** This top level iPython notebook is designed to be a place to see how our code works. It is also a good way for us to show off our results"
   ]
  },
  {
   "cell_type": "code",
   "execution_count": 1,
   "metadata": {
    "collapsed": false
   },
   "outputs": [],
   "source": [
    "#!/usr/bin/env python\n",
    "\n",
    "# doesn't work\n",
    "# import main_cluster"
   ]
  },
  {
   "cell_type": "code",
   "execution_count": 2,
   "metadata": {
    "collapsed": false
   },
   "outputs": [],
   "source": [
    "import numpy as np\n",
    "import os, struct,random #,\n",
    "# import sys\n",
    "from numpy import append, array, int8, uint8, zeros\n",
    "import Initialize\n",
    "import Accuracy\n",
    "import Distance\n",
    "import Load\n",
    "import Kmeans\n",
    "import ClassifyClusters\n",
    "\n",
    "######################################\n",
    "# Load in training images and labels #\n",
    "######################################\n",
    "\n",
    "# load training and testing images and labels as 60,000 x 28 x 28 array\n",
    "train_images,train_labels = Load.load_mnist(\"training\",path=os.getcwd(), prop = 5)\n",
    "test_images,test_labels = Load.load_mnist(\"testing\",path=os.getcwd())\n",
    "\n",
    "# flatten training images into 60,000 x 784 array\n",
    "train_images_flat = np.array([np.ravel(img) for img in train_images])\n",
    "test_images_flat = np.array([np.ravel(img) for img in test_images])\n",
    "\n",
    "# final = []\n",
    "# cluster_set = []\n",
    "def main (k):\n",
    "    #########################\n",
    "    # Set parameter values  #\n",
    "    #########################\n",
    "#     k = int(sys.argv[1]) # number of clusters (system argument)\n",
    "\n",
    "    if k < 10:\n",
    "        raise ValueError(\"Minimum cluster number is 10\")\n",
    "\n",
    "    #################################################\n",
    "    # Lloyd's algorithm -- find optimal clustering  #\n",
    "    #################################################\n",
    "\n",
    "    # Run clustering algorithm\n",
    "    final_responsibilities, final_clusters = Kmeans.kmeans(k, train_images_flat,\n",
    "      Initialize.random_centers(k), distfn = Distance.sumsq, method = \"means\")\n",
    "    print final_responsibilities.sum(axis=0)\n",
    "\n",
    "    # Save representative images to file.\n",
    "    Load.save_images(k, train_images, final_responsibilities, final_clusters)\n",
    "\n",
    "    # Calculate final accuracy\n",
    "    return Accuracy.final_accuracy(final_responsibilities, train_labels, train_images_flat, final_clusters)"
   ]
  },
  {
   "cell_type": "code",
   "execution_count": 5,
   "metadata": {
    "collapsed": false
   },
   "outputs": [
    {
     "name": "stdout",
     "output_type": "stream",
     "text": [
      "[9 8 9 ..., 9 9 9]\n",
      "0 [  176.   295.   136.   468.   183.   107.   111.   217.   147.  1160.]\n",
      "1 [ 218.  326.  131.  456.  231.  150.  126.  321.  153.  888.]\n",
      "2 [ 243.  298.  138.  440.  265.  171.  138.  369.  186.  752.]\n",
      "3 [ 266.  275.  147.  439.  282.  182.  145.  381.  205.  678.]\n",
      "4 [ 294.  262.  152.  457.  290.  188.  152.  376.  213.  616.]\n",
      "5 [ 334.  236.  158.  483.  301.  196.  154.  355.  224.  559.]\n",
      "6 [ 342.  217.  165.  492.  306.  207.  165.  364.  226.  516.]\n",
      "7 [ 314.  215.  170.  507.  315.  210.  178.  391.  224.  476.]\n",
      "8 [ 298.  223.  178.  514.  318.  201.  190.  401.  223.  454.]\n",
      "9 [ 272.  229.  180.  517.  319.  212.  205.  412.  220.  434.]\n",
      "10 [ 253.  240.  187.  516.  313.  222.  216.  423.  213.  417.]\n",
      "11 [ 241.  254.  193.  513.  311.  224.  220.  435.  204.  405.]\n",
      "12 [ 228.  267.  194.  508.  319.  222.  224.  445.  202.  391.]\n",
      "13 [ 220.  277.  194.  502.  328.  218.  224.  450.  201.  386.]\n",
      "14 [ 211.  289.  193.  491.  336.  218.  225.  456.  201.  380.]\n",
      "15 [ 206.  293.  193.  486.  338.  223.  224.  459.  204.  374.]\n",
      "16 [ 198.  293.  193.  484.  341.  230.  224.  464.  204.  369.]\n",
      "17 [ 195.  288.  193.  485.  346.  236.  224.  467.  205.  361.]\n",
      "18 [ 194.  285.  192.  484.  349.  240.  224.  470.  206.  356.]\n",
      "19 [ 196.  287.  192.  480.  352.  242.  225.  470.  207.  349.]\n",
      "20 [ 196.  287.  192.  476.  357.  240.  227.  469.  207.  349.]\n",
      "21 [ 196.  280.  192.  474.  361.  245.  227.  471.  207.  347.]\n",
      "22 [ 194.  273.  192.  475.  366.  248.  227.  473.  207.  345.]\n",
      "23 [ 191.  268.  192.  476.  368.  253.  228.  474.  206.  344.]\n",
      "24 [ 190.  267.  192.  475.  372.  255.  228.  473.  207.  341.]\n",
      "25 [ 190.  267.  194.  475.  378.  249.  227.  474.  207.  339.]\n",
      "26 [ 191.  268.  195.  475.  380.  244.  227.  476.  207.  337.]\n",
      "27 [ 190.  268.  196.  475.  382.  242.  227.  477.  208.  335.]\n",
      "28 [ 189.  265.  196.  475.  383.  243.  226.  479.  209.  335.]\n",
      "29 [ 189.  262.  196.  476.  381.  248.  226.  479.  208.  335.]\n",
      "30 [ 189.  256.  195.  480.  380.  251.  226.  481.  208.  334.]\n",
      "31 [ 188.  254.  196.  482.  382.  253.  225.  481.  208.  331.]\n",
      "32 [ 189.  255.  196.  484.  384.  249.  226.  482.  207.  328.]\n",
      "33 [ 187.  251.  196.  486.  389.  248.  226.  483.  208.  326.]\n",
      "34 [ 186.  250.  196.  486.  392.  248.  226.  482.  208.  326.]\n",
      "35 [ 185.  251.  196.  483.  394.  248.  226.  482.  209.  326.]\n",
      "36 [ 185.  249.  196.  482.  395.  250.  226.  482.  209.  326.]\n",
      "37 [ 184.  248.  196.  482.  395.  252.  226.  482.  209.  326.]\n",
      "38 [ 184.  247.  196.  481.  395.  254.  226.  482.  209.  326.]\n",
      "39 [ 184.  247.  196.  481.  395.  255.  226.  481.  209.  326.]\n",
      "40 [ 184.  247.  196.  481.  395.  256.  226.  480.  209.  326.]\n",
      "[ 184.  247.  196.  481.  395.  256.  226.  480.  209.  326.]\n",
      "Digit: 0  Purity: 96.5% SD: 1716.0  Count: 226\n",
      "Digit: 1  Purity: 68.2% SD: 1316.1  Count: 481\n",
      "Digit: 2  Purity: 91.3% SD: 1768.8  Count: 196\n",
      "Digit: 3  Purity: 47.8% SD: 1705.5  Count: 395\n",
      "Digit: 4  Purity: 42.3% SD: 1626.8  Count: 480\n",
      "Digit: 5  Purity: 36.0% SD: 1548.2  Count: 247\n",
      "Digit: 6  Purity: 72.3% SD: 1611.8  Count: 393\n",
      "Digit: 7  Purity: 55.2% SD: 1460.1  Count: 326\n",
      "Digit: 8  Purity: 61.7% SD: 1659.2  Count: 256\n",
      "Digit: 9  Purity:  0.0% SD:    0.0  Count: 0\n"
     ]
    }
   ],
   "source": [
    "final, cluster_set = main(10)"
   ]
  },
  {
   "cell_type": "code",
   "execution_count": 31,
   "metadata": {
    "collapsed": false
   },
   "outputs": [],
   "source": [
    "newt = []\n",
    "c_inds = []\n",
    "for cluster in cluster_set:\n",
    "    newt.append(cluster[0])\n",
    "    c_inds.append(cluster[1])\n",
    "    "
   ]
  },
  {
   "cell_type": "code",
   "execution_count": null,
   "metadata": {
    "collapsed": false
   },
   "outputs": [],
   "source": []
  },
  {
   "cell_type": "code",
   "execution_count": 85,
   "metadata": {
    "collapsed": false
   },
   "outputs": [],
   "source": [
    "distfn = Distance.sumsq\n",
    "# np.apply_along_axis(Distance.leastsquares, 1, test_images_flat[0],\n",
    "#     cluster_set[0][0], distfn)\n",
    "\n",
    "# This gets indicies of best clusters\n",
    "t = np.apply_along_axis(Distance.leastsquares, 1, test_images_flat[1:1000],\n",
    "    newt, distfn)\n",
    "\n",
    "# _find_Dx\n",
    "correct_num = test_labels[1:1000]\n",
    "# print t\n"
   ]
  },
  {
   "cell_type": "code",
   "execution_count": 86,
   "metadata": {
    "collapsed": false
   },
   "outputs": [],
   "source": [
    "# result is the index of the best cluster\n",
    "comp = np.array([c_inds[i] for i in t])\n",
    "diffs = comp - np.array(correct_num)\n"
   ]
  },
  {
   "cell_type": "code",
   "execution_count": 87,
   "metadata": {
    "collapsed": false
   },
   "outputs": [
    {
     "name": "stdout",
     "output_type": "stream",
     "text": [
      "0.542542542543\n"
     ]
    }
   ],
   "source": [
    "count = 0\n",
    "for n in diffs:\n",
    "    if int(n) == 0:\n",
    "        count+=1\n",
    "#     print count\n",
    "print float(count) / len(diffs)"
   ]
  },
  {
   "cell_type": "code",
   "execution_count": 92,
   "metadata": {
    "collapsed": false
   },
   "outputs": [],
   "source": [
    "# import Distance\n",
    "\n",
    "# def classify(cluster_set, test_set, test_labels, distfn = Distance.sumsq, n = None):\n",
    "    \n",
    "#     clusters = []\n",
    "#     c_index = []\n",
    "#     for cluster in cluster_set:\n",
    "#         clusters.append(cluster[0])\n",
    "#         c_index.append(cluster[1])\n",
    "\n",
    "#     if n == None:\n",
    "#         n = len(test_labels) - 1\n",
    "#     test_clusters_asgn = np.apply_along_axis(Distance.leastsquares, 1, test_images_flat[0:n],\n",
    "#         newt, distfn)\n",
    "#     test_clusters = np.array([c_index[i] for i in test_clusters_asgn])\n",
    "\n",
    "#     # correct numbers for dataset\n",
    "#     correct_numbers = test_labels[0:n]\n",
    "#     # Diffs on assignments\n",
    "#     diffs = test_clusters - np.array(correct_numbers)\n",
    "#     # Count for incorrect assignments \n",
    "#     n_wrong = np.count_nonzero(diffs)\n",
    "\n",
    "#     prediction_level = ((n - n_wrong) / float(n))*100\n",
    "#     print \"Our Accuracy in prediction test data was {0} %\".format(prediction_level)"
   ]
  },
  {
   "cell_type": "code",
   "execution_count": 9,
   "metadata": {
    "collapsed": false
   },
   "outputs": [
    {
     "ename": "NameError",
     "evalue": "global name 'np' is not defined",
     "output_type": "error",
     "traceback": [
      "\u001b[0;31m---------------------------------------------------------------------------\u001b[0m",
      "\u001b[0;31mNameError\u001b[0m                                 Traceback (most recent call last)",
      "\u001b[0;32m<ipython-input-9-9b6d84be6e1b>\u001b[0m in \u001b[0;36m<module>\u001b[0;34m()\u001b[0m\n\u001b[1;32m      1\u001b[0m \u001b[0;32mimport\u001b[0m \u001b[0mClassifyClusters\u001b[0m\u001b[0;34m\u001b[0m\u001b[0m\n\u001b[1;32m      2\u001b[0m \u001b[0;32mimport\u001b[0m \u001b[0mnumpy\u001b[0m \u001b[0;32mas\u001b[0m \u001b[0mnp\u001b[0m\u001b[0;34m\u001b[0m\u001b[0m\n\u001b[0;32m----> 3\u001b[0;31m \u001b[0mClassifyClusters\u001b[0m\u001b[0;34m.\u001b[0m\u001b[0mclassify\u001b[0m\u001b[0;34m(\u001b[0m\u001b[0mcluster_set\u001b[0m\u001b[0;34m,\u001b[0m \u001b[0mtest_images_flat\u001b[0m\u001b[0;34m,\u001b[0m \u001b[0mtest_labels\u001b[0m\u001b[0;34m)\u001b[0m\u001b[0;34m\u001b[0m\u001b[0m\n\u001b[0m",
      "\u001b[0;32m/Users/tyrocca/Desktop/cs51final/ClassifyClusters.pyc\u001b[0m in \u001b[0;36mclassify\u001b[0;34m(cluster_set, test_set, test_labels, distfn, n)\u001b[0m\n\u001b[1;32m     38\u001b[0m     \u001b[0;32mif\u001b[0m \u001b[0mn\u001b[0m \u001b[0;34m==\u001b[0m \u001b[0mNone\u001b[0m\u001b[0;34m:\u001b[0m\u001b[0;34m\u001b[0m\u001b[0m\n\u001b[1;32m     39\u001b[0m         \u001b[0mn\u001b[0m \u001b[0;34m=\u001b[0m \u001b[0mlen\u001b[0m\u001b[0;34m(\u001b[0m\u001b[0mtest_labels\u001b[0m\u001b[0;34m)\u001b[0m \u001b[0;34m-\u001b[0m \u001b[0;36m1\u001b[0m\u001b[0;34m\u001b[0m\u001b[0m\n\u001b[0;32m---> 40\u001b[0;31m     test_clusters_asgn = np.apply_along_axis(Distance.leastsquares, 1, test_set[0:n],\n\u001b[0m\u001b[1;32m     41\u001b[0m         newt, distfn)\n\u001b[1;32m     42\u001b[0m     \u001b[0mtest_clusters\u001b[0m \u001b[0;34m=\u001b[0m \u001b[0mnp\u001b[0m\u001b[0;34m.\u001b[0m\u001b[0marray\u001b[0m\u001b[0;34m(\u001b[0m\u001b[0;34m[\u001b[0m\u001b[0mc_index\u001b[0m\u001b[0;34m[\u001b[0m\u001b[0mi\u001b[0m\u001b[0;34m]\u001b[0m \u001b[0;32mfor\u001b[0m \u001b[0mi\u001b[0m \u001b[0;32min\u001b[0m \u001b[0mtest_clusters_asgn\u001b[0m\u001b[0;34m]\u001b[0m\u001b[0;34m)\u001b[0m\u001b[0;34m\u001b[0m\u001b[0m\n",
      "\u001b[0;31mNameError\u001b[0m: global name 'np' is not defined"
     ]
    }
   ],
   "source": [
    "import ClassifyClusters\n",
    "import numpy as np\n",
    "ClassifyClusters.classify(cluster_set, test_images_flat, test_labels)"
   ]
  },
  {
   "cell_type": "code",
   "execution_count": 4,
   "metadata": {
    "collapsed": false
   },
   "outputs": [
    {
     "ename": "TypeError",
     "evalue": "classify() takes at least 3 arguments (0 given)",
     "output_type": "error",
     "traceback": [
      "\u001b[0;31m---------------------------------------------------------------------------\u001b[0m",
      "\u001b[0;31mTypeError\u001b[0m                                 Traceback (most recent call last)",
      "\u001b[0;32m<ipython-input-4-a36511550b7f>\u001b[0m in \u001b[0;36m<module>\u001b[0;34m()\u001b[0m\n\u001b[0;32m----> 1\u001b[0;31m \u001b[0mClassifyClusters\u001b[0m\u001b[0;34m.\u001b[0m\u001b[0mclassify\u001b[0m\u001b[0;34m(\u001b[0m\u001b[0;34m)\u001b[0m\u001b[0;34m\u001b[0m\u001b[0m\n\u001b[0m",
      "\u001b[0;31mTypeError\u001b[0m: classify() takes at least 3 arguments (0 given)"
     ]
    }
   ],
   "source": [
    "# ClassifyClusters.classify()"
   ]
  },
  {
   "cell_type": "code",
   "execution_count": null,
   "metadata": {
    "collapsed": true
   },
   "outputs": [],
   "source": []
  }
 ],
 "metadata": {
  "kernelspec": {
   "display_name": "Python 2",
   "language": "python",
   "name": "python2"
  },
  "language_info": {
   "codemirror_mode": {
    "name": "ipython",
    "version": 2
   },
   "file_extension": ".py",
   "mimetype": "text/x-python",
   "name": "python",
   "nbconvert_exporter": "python",
   "pygments_lexer": "ipython2",
   "version": "2.7.6"
  }
 },
 "nbformat": 4,
 "nbformat_minor": 0
}
